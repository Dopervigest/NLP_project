{
 "cells": [
  {
   "cell_type": "code",
   "execution_count": null,
   "id": "ac03dcc1-b2f3-4b79-9558-98383cc5c36c",
   "metadata": {},
   "outputs": [],
   "source": [
    "!pip install dateparser\n",
    "!pip install datefinder"
   ]
  },
  {
   "cell_type": "markdown",
   "id": "5e8cf693-3ef6-431e-bbb5-d09a261568f7",
   "metadata": {},
   "source": [
    "# Originaly the data was saved in .txt file, so I had to do some processing\n",
    "### In this notebook the test data for NER models is processed into structured dict and saved from .txt file to .json\n",
    "### Function convert_to_standard_date can also be found in scripts.py"
   ]
  },
  {
   "cell_type": "code",
   "execution_count": 1,
   "id": "3fcb2fc8-9825-401e-892f-566f9cbb88fb",
   "metadata": {},
   "outputs": [],
   "source": [
    "with open('test_data.txt', mode='r') as f:\n",
    "    data = f.read()"
   ]
  },
  {
   "cell_type": "code",
   "execution_count": 2,
   "id": "8133734b-998e-46d0-abe2-4475bf290080",
   "metadata": {
    "scrolled": true
   },
   "outputs": [],
   "source": [
    "def extract_requests_and_data(text):\n",
    "    requests = []\n",
    "    data = []\n",
    "\n",
    "    def find_next(text):\n",
    "        start_quote = text.find('Request: \"') + len('Request:\"')\n",
    "        end_quote = text.find('\"', start_quote + 1)\n",
    "\n",
    "        if start_quote != -1 and end_quote != -1:\n",
    "            requests.append(text[start_quote + 1:end_quote])\n",
    "            remaining_text = text[end_quote + 1:]\n",
    "            find_data(remaining_text)\n",
    "        else:\n",
    "            return\n",
    "\n",
    "    def find_data(text):\n",
    "        data_start = text.find('Data:')\n",
    "        if data_start != -1:\n",
    "            end_of_data = text.find('\\n', data_start)\n",
    "            data.append(text[data_start + 6:end_of_data])\n",
    "            remaining_text = text[end_of_data + 1:]\n",
    "            find_next(remaining_text)\n",
    "        else:\n",
    "            return\n",
    "\n",
    "    find_next(text)\n",
    "    return requests, data\n",
    "\n",
    "\n",
    "requests_extracted, data_extracted = extract_requests_and_data(data)\n"
   ]
  },
  {
   "cell_type": "code",
   "execution_count": 3,
   "id": "388cdf0d-5577-4aea-b078-25dde8f21ede",
   "metadata": {},
   "outputs": [],
   "source": [
    "# Add structure to the data\n",
    "dict_of_data = {'request': [],\n",
    "                'data': []                   \n",
    "               }\n",
    "\n",
    "import dateparser\n",
    "# Convert date to standard format\n",
    "def convert_to_standard_date(date_string):\n",
    "    parsed_date = dateparser.parse(date_string)\n",
    "    if parsed_date:\n",
    "        return parsed_date.strftime('%d-%m-%Y')\n",
    "    else:\n",
    "        return \"Unspecified\"\n",
    "\n",
    "\n",
    "for idx, data in enumerate(data_extracted):\n",
    "    dict_of_data['request'].append(requests_extracted[idx])\n",
    "\n",
    "    name, departure, destination, date = data.split(', ')\n",
    "\n",
    "    date = convert_to_standard_date(date)\n",
    "    dict_of_data['data'].append({\n",
    "        'name': name,\n",
    "        'departure': departure,\n",
    "        'destination': destination,\n",
    "        'date': date\n",
    "    })\n",
    "    "
   ]
  },
  {
   "cell_type": "code",
   "execution_count": 4,
   "id": "4f01986f-dd25-4d7a-8e5a-0b0201a5c76c",
   "metadata": {},
   "outputs": [],
   "source": [
    "import json\n",
    "with open('test_data.json', 'w') as f:\n",
    "    json.dump(dict_of_data, f)"
   ]
  },
  {
   "cell_type": "markdown",
   "id": "a8667586-e3a7-42ac-9e91-0c6ac48e6362",
   "metadata": {},
   "source": [
    "# Test"
   ]
  },
  {
   "cell_type": "code",
   "execution_count": 5,
   "id": "37c8665b-08cc-4b34-bdd3-630f7ed94ec2",
   "metadata": {},
   "outputs": [],
   "source": [
    "with open('test_data.json') as json_file:\n",
    "    loaded_dict = json.load(json_file)"
   ]
  },
  {
   "cell_type": "code",
   "execution_count": 6,
   "id": "8bb59d19-54a0-4e75-855b-c5d90dcb4f25",
   "metadata": {},
   "outputs": [
    {
     "data": {
      "text/plain": [
       "(120, 120)"
      ]
     },
     "execution_count": 6,
     "metadata": {},
     "output_type": "execute_result"
    }
   ],
   "source": [
    "len(loaded_dict['request']), len(loaded_dict['data'])"
   ]
  },
  {
   "cell_type": "code",
   "execution_count": 7,
   "id": "acf953ac-500c-4ab9-b7e9-3beaf19c9958",
   "metadata": {},
   "outputs": [
    {
     "data": {
      "text/plain": [
       "('Good day, my name is Victoria Thompson. I am considering a flight from Paris to Dubai around the 28th of February 2024. Could you kindly provide information on flight options for this date?',\n",
       " {'name': 'Victoria Thompson',\n",
       "  'departure': 'Paris',\n",
       "  'destination': 'Dubai',\n",
       "  'date': '28-02-2024'})"
      ]
     },
     "execution_count": 7,
     "metadata": {},
     "output_type": "execute_result"
    }
   ],
   "source": [
    "loaded_dict['request'][84], loaded_dict['data'][84]"
   ]
  },
  {
   "cell_type": "code",
   "execution_count": 8,
   "id": "a247dec7-5a35-4bb6-82f2-e0859213dde6",
   "metadata": {},
   "outputs": [],
   "source": [
    "def load_test_data(file_name='test_data.json'):\n",
    "    with open(file_name) as json_file:\n",
    "        loaded_dict = json.load(json_file)\n",
    "\n",
    "    user_requests = loaded_dict['request']\n",
    "    required_data = loaded_dict['data']\n",
    "\n",
    "    return user_requests, required_data\n",
    "\n",
    "user_requests, required_data = load_test_data()"
   ]
  },
  {
   "cell_type": "code",
   "execution_count": 9,
   "id": "ae37e447-533a-4b42-97d1-8df6d31774a1",
   "metadata": {},
   "outputs": [
    {
     "data": {
      "text/plain": [
       "('Good day, my name is Victoria Thompson. I am considering a flight from Paris to Dubai around the 28th of February 2024. Could you kindly provide information on flight options for this date?',\n",
       " {'name': 'Victoria Thompson',\n",
       "  'departure': 'Paris',\n",
       "  'destination': 'Dubai',\n",
       "  'date': '28-02-2024'})"
      ]
     },
     "execution_count": 9,
     "metadata": {},
     "output_type": "execute_result"
    }
   ],
   "source": [
    "user_requests[84], required_data[84]"
   ]
  },
  {
   "cell_type": "code",
   "execution_count": null,
   "id": "aae17b64-0298-422d-bd6c-f8fafc3c7ea4",
   "metadata": {},
   "outputs": [],
   "source": []
  }
 ],
 "metadata": {
  "kernelspec": {
   "display_name": "Python 3 (ipykernel)",
   "language": "python",
   "name": "python3"
  },
  "language_info": {
   "codemirror_mode": {
    "name": "ipython",
    "version": 3
   },
   "file_extension": ".py",
   "mimetype": "text/x-python",
   "name": "python",
   "nbconvert_exporter": "python",
   "pygments_lexer": "ipython3",
   "version": "3.9.18"
  }
 },
 "nbformat": 4,
 "nbformat_minor": 5
}
