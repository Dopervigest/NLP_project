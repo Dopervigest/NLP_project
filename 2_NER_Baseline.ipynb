{
 "cells": [
  {
   "cell_type": "markdown",
   "id": "7fb25ad2-b37c-4adc-9d62-9eecbae3a91c",
   "metadata": {},
   "source": [
    "# The regex-based baseline for NER task\n",
    "### Model contains RegEx rules to find the important data\n",
    "### The model can also be found in ner_models.py"
   ]
  },
  {
   "cell_type": "code",
   "execution_count": 1,
   "id": "0300cdf1-3ea0-4d33-8591-421bf94de742",
   "metadata": {},
   "outputs": [],
   "source": [
    "import re\n",
    "from scripts import load_test_data, test_n_samples, convert_to_standard_date\n",
    "# Baseline regex-based method \n",
    "class RegexModel():\n",
    "    def __init__(self):\n",
    "        # Regular expressions to extract information\n",
    "        self.pattern_name = r'[A-Z][a-z]+\\s[A-Z][a-z]+' # gets first name and last name\n",
    "        self.pattern_departure = r'from\\s([A-Z][a-z]+)' # gets capitalized noun after word 'from'\n",
    "        self.pattern_destination = r'to\\s([A-Z][a-z]+)' # gets capitalized noun after word 'to' \n",
    "        self.pattern_date = r'\\b(?:\\d{1,2}(?:st|nd|rd|th)?\\s)?(?:Jan(?:uary)?|Feb(?:ruary)?|Mar(?:ch)?|Apr(?:il)?|May|Jun(?:e)?|Jul(?:y)?|Aug(?:ust)?|Sep(?:tember)?|Oct(?:ober)?|Nov(?:ember)?|Dec(?:ember)?)\\s\\d{4}\\b'\n",
    "\n",
    "    def extract_flight_details(self, user_request):\n",
    "        # Initializing variables\n",
    "        name = 'Unspecified'\n",
    "        departure = 'Unspecified'\n",
    "        destination = 'Unspecified'\n",
    "        date = 'Unspecified'\n",
    "    \n",
    "        # Extracting information\n",
    "        match_name = re.search(self.pattern_name, user_request)\n",
    "        if match_name:\n",
    "            name = match_name.group()\n",
    "    \n",
    "        match_departure = re.search(self.pattern_departure, user_request)\n",
    "        if match_departure:\n",
    "            departure = match_departure.group(1)\n",
    "    \n",
    "        match_destination = re.search(self.pattern_destination, user_request)\n",
    "        if match_destination:\n",
    "            destination = match_destination.group(1)\n",
    "    \n",
    "        match_date = re.search(self.pattern_date, user_request)\n",
    "        if match_date:\n",
    "            date = match_date.group()\n",
    "            date = convert_to_standard_date(date)\n",
    "        \n",
    "        return name, departure, destination, date\n"
   ]
  },
  {
   "cell_type": "code",
   "execution_count": 2,
   "id": "8e985740-b66d-4129-878a-84adb0a3cfe1",
   "metadata": {},
   "outputs": [],
   "source": [
    "user_requests, required_data = load_test_data()"
   ]
  },
  {
   "cell_type": "code",
   "execution_count": 3,
   "id": "5eae6013-42b4-4eb7-8bff-280d3153d50d",
   "metadata": {},
   "outputs": [],
   "source": [
    "model = RegexModel()"
   ]
  },
  {
   "cell_type": "code",
   "execution_count": 4,
   "id": "602dc2ad-8cd6-455f-93a2-a3a967a4940a",
   "metadata": {},
   "outputs": [
    {
     "name": "stdout",
     "output_type": "stream",
     "text": [
      "Name: Olivia Parker, True_Name: Olivia Parker\n",
      "Departure: Barcelona, True_Departure: Barcelona\n",
      "Destination: Amsterdam, True_Destination: Amsterdam\n",
      "Date: 20-05-2024, True_Date: 20-05-2024\n",
      "---------------------------------------------\n",
      "Name: Henry Wright, True_Name: Henry Wright\n",
      "Departure: Seoul, True_Departure: Seoul\n",
      "Destination: Sydney, True_Destination: Sydney\n",
      "Date: 08-09-2024, True_Date: 08-09-2024\n",
      "---------------------------------------------\n",
      "Name: Lily Johnson, True_Name: Lily Johnson\n",
      "Departure: Rome, True_Departure: Rome\n",
      "Destination: Paris, True_Destination: Paris\n",
      "Date: 12-07-2024, True_Date: 12-07-2024\n",
      "---------------------------------------------\n",
      "Name: Lucas Thompson, True_Name: Lucas Thompson\n",
      "Departure: New, True_Departure: New Delhi\n",
      "Destination: Dubai, True_Destination: Dubai\n",
      "Date: 05-10-2024, True_Date: 05-10-2024\n",
      "---------------------------------------------\n",
      "Name: Isabelle Brown, True_Name: Isabelle Brown\n",
      "Departure: Tokyo, True_Departure: Tokyo\n",
      "Destination: London, True_Destination: London\n",
      "Date: 15-04-2024, True_Date: 15-04-2024\n",
      "---------------------------------------------\n"
     ]
    }
   ],
   "source": [
    "test_n_samples(model, user_requests, required_data, 5)"
   ]
  },
  {
   "cell_type": "code",
   "execution_count": null,
   "id": "c376bf98-c143-4cb4-892e-c624817b82cc",
   "metadata": {},
   "outputs": [],
   "source": []
  }
 ],
 "metadata": {
  "kernelspec": {
   "display_name": "Python 3 (ipykernel)",
   "language": "python",
   "name": "python3"
  },
  "language_info": {
   "codemirror_mode": {
    "name": "ipython",
    "version": 3
   },
   "file_extension": ".py",
   "mimetype": "text/x-python",
   "name": "python",
   "nbconvert_exporter": "python",
   "pygments_lexer": "ipython3",
   "version": "3.9.18"
  }
 },
 "nbformat": 4,
 "nbformat_minor": 5
}
