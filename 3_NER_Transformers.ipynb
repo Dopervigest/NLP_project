{
 "cells": [
  {
   "cell_type": "code",
   "execution_count": null,
   "id": "831c3b52-f3d0-41c3-831f-3e3459fa0c34",
   "metadata": {},
   "outputs": [],
   "source": [
    "!pip install torch torchvision torchaudio\n",
    "!pip install transformers"
   ]
  },
  {
   "cell_type": "markdown",
   "id": "65b3d3a9-01bc-4175-85a1-f56e4fe6cdb2",
   "metadata": {},
   "source": [
    "# The implementations of 4 pipelines with models from HuggingFace library\n",
    "### List of models consists of base BERT, BERT uncased, RoBERTa, and Electra\n",
    "### Since none of these models are trained to recognise dates, the datefinder library is used to accomodate that\n",
    "### The models can also be found in ner_models.py"
   ]
  },
  {
   "cell_type": "code",
   "execution_count": 1,
   "id": "c7a48100-7fc4-4be4-b703-3e5c0a4567ae",
   "metadata": {},
   "outputs": [],
   "source": [
    "import re\n",
    "import torch\n",
    "import datefinder\n",
    "from transformers import AutoTokenizer, AutoModelForTokenClassification, pipeline\n",
    "from scripts import load_test_data, test_n_samples, convert_to_standard_date\n",
    "\n",
    "user_requests, required_data = load_test_data()"
   ]
  },
  {
   "cell_type": "markdown",
   "id": "798c8bfd-22c7-459d-a6e3-8210ea1164d8",
   "metadata": {},
   "source": [
    "# Bert base NER"
   ]
  },
  {
   "cell_type": "code",
   "execution_count": 2,
   "id": "923cd3b3-97e3-4bea-8f3c-4395e087561c",
   "metadata": {},
   "outputs": [],
   "source": [
    "class HfBERTModel():\n",
    "    def __init__(self):\n",
    "        tokenizer = AutoTokenizer.from_pretrained(\"dslim/bert-base-NER\")\n",
    "        model = AutoModelForTokenClassification.from_pretrained(\"dslim/bert-base-NER\")        \n",
    "        self.model = pipeline(\"ner\", model=model, tokenizer=tokenizer)\n",
    "\n",
    "    def extract_flight_details(self, user_request):\n",
    "        # Initializing base variables\n",
    "        name = 'Unspecified'\n",
    "        departure = 'Unspecified'\n",
    "        destination = 'Unspecified'\n",
    "        date = 'Unspecified'\n",
    "        \n",
    "        ner_results = self.model(user_request)\n",
    "        \n",
    "        departure_end = None\n",
    "        destination_end = None\n",
    "        \n",
    "        for entity in ner_results:           \n",
    "            if entity['entity'] == 'B-PER' or entity['entity'] == 'I-PER':\n",
    "                if name == 'Unspecified':\n",
    "                    name = entity['word']\n",
    "                else:\n",
    "                    name += \" \" + entity['word']\n",
    "                    \n",
    "            elif entity['entity'] == 'B-LOC' or entity['entity'] == 'I-LOC':\n",
    "                if departure == 'Unspecified':\n",
    "                    if ' from ' in user_request[:entity['start']]:\n",
    "                        departure = entity['word']\n",
    "                        departure_end = entity['end']\n",
    "                    elif ' to ' in user_request[:entity['start']]:\n",
    "                        destination = entity['word']\n",
    "                        destination_end = entity['end']\n",
    "                        \n",
    "                elif departure_end is not None and entity['start'] == departure_end+1:\n",
    "                        departure += ' '+ entity['word']\n",
    "                \n",
    "                elif destination == 'Unspecified':\n",
    "                    destination = entity['word']\n",
    "                    destination_end = entity['end']\n",
    "\n",
    "                elif destination_end is not None and entity['start'] == destination_end+1:\n",
    "                        destination += ' '+ entity['word']\n",
    "                else:\n",
    "                    pass\n",
    "\n",
    "        matches = datefinder.find_dates(user_request)\n",
    "        match = next(matches, None)\n",
    "        date = match.strftime(\"%d-%m-%Y\") if match else 'Unspecified'\n",
    "            \n",
    "            \n",
    "        return name.title(), departure.title(), destination.title(), date\n",
    "\n"
   ]
  },
  {
   "cell_type": "code",
   "execution_count": 3,
   "id": "ff562c75-c7e2-46aa-a4c5-61607d463712",
   "metadata": {},
   "outputs": [
    {
     "name": "stderr",
     "output_type": "stream",
     "text": [
      "Some weights of the model checkpoint at dslim/bert-base-NER were not used when initializing BertForTokenClassification: ['bert.pooler.dense.bias', 'bert.pooler.dense.weight']\n",
      "- This IS expected if you are initializing BertForTokenClassification from the checkpoint of a model trained on another task or with another architecture (e.g. initializing a BertForSequenceClassification model from a BertForPreTraining model).\n",
      "- This IS NOT expected if you are initializing BertForTokenClassification from the checkpoint of a model that you expect to be exactly identical (initializing a BertForSequenceClassification model from a BertForSequenceClassification model).\n"
     ]
    }
   ],
   "source": [
    "model = HfBERTModel()"
   ]
  },
  {
   "cell_type": "code",
   "execution_count": 4,
   "id": "d67ab4ad-106e-4dc1-9702-4b87baa3ebc8",
   "metadata": {},
   "outputs": [
    {
     "name": "stdout",
     "output_type": "stream",
     "text": [
      "Name: Olivia Parker, True_Name: Olivia Parker\n",
      "Departure: Barcelona, True_Departure: Barcelona\n",
      "Destination: Amsterdam, True_Destination: Amsterdam\n",
      "Date: 20-05-2024, True_Date: 20-05-2024\n",
      "---------------------------------------------\n",
      "Name: Henry Wright, True_Name: Henry Wright\n",
      "Departure: Seoul, True_Departure: Seoul\n",
      "Destination: Sydney, True_Destination: Sydney\n",
      "Date: 08-09-2024, True_Date: 08-09-2024\n",
      "---------------------------------------------\n",
      "Name: Lily Johnson, True_Name: Lily Johnson\n",
      "Departure: Rome, True_Departure: Rome\n",
      "Destination: Paris, True_Destination: Paris\n",
      "Date: 12-07-2024, True_Date: 12-07-2024\n",
      "---------------------------------------------\n",
      "Name: Lucas Thompson, True_Name: Lucas Thompson\n",
      "Departure: New Delhi, True_Departure: New Delhi\n",
      "Destination: Dubai, True_Destination: Dubai\n",
      "Date: 05-10-2024, True_Date: 05-10-2024\n",
      "---------------------------------------------\n",
      "Name: Isabelle Brown, True_Name: Isabelle Brown\n",
      "Departure: Tokyo, True_Departure: Tokyo\n",
      "Destination: London, True_Destination: London\n",
      "Date: 15-04-2024, True_Date: 15-04-2024\n",
      "---------------------------------------------\n"
     ]
    }
   ],
   "source": [
    "test_n_samples(model, user_requests, required_data, 5)"
   ]
  },
  {
   "cell_type": "code",
   "execution_count": null,
   "id": "affe0a07-c003-4189-9ca4-3d8c79a0ce5f",
   "metadata": {},
   "outputs": [],
   "source": []
  },
  {
   "cell_type": "markdown",
   "id": "4321eaa1-0ccc-4368-bb98-94f84fb0ee02",
   "metadata": {},
   "source": [
    "# BERT base uncased"
   ]
  },
  {
   "cell_type": "code",
   "execution_count": 5,
   "id": "5c4b3a5a-3eaa-4f9c-affc-db77e939fcc1",
   "metadata": {},
   "outputs": [],
   "source": [
    "class HfBERTUncasedModel():\n",
    "    def __init__(self):\n",
    "        tokenizer = AutoTokenizer.from_pretrained(\"dslim/bert-base-NER-uncased\")\n",
    "        model = AutoModelForTokenClassification.from_pretrained(\"dslim/bert-base-NER-uncased\")        \n",
    "        self.model = pipeline(\"ner\", model=model, tokenizer=tokenizer)\n",
    "\n",
    "    def extract_flight_details(self, user_request):\n",
    "        # Initializing base variables\n",
    "        name = 'Unspecified'\n",
    "        departure = 'Unspecified'\n",
    "        destination = 'Unspecified'\n",
    "        date = 'Unspecified'\n",
    "        \n",
    "        ner_results = self.model(user_request)\n",
    "        \n",
    "        departure_end = None\n",
    "        destination_end = None\n",
    "        \n",
    "        for entity in ner_results:           \n",
    "            if entity['entity'] == 'B-PER' or entity['entity'] == 'I-PER':\n",
    "                if name == 'Unspecified':\n",
    "                    name = entity['word']\n",
    "                else:\n",
    "                    name += \" \" + entity['word']\n",
    "                    \n",
    "            elif entity['entity'] == 'B-LOC' or entity['entity'] == 'I-LOC':\n",
    "                if departure == 'Unspecified':\n",
    "                    if ' from ' in user_request[:entity['start']]:\n",
    "                        departure = entity['word']\n",
    "                        departure_end = entity['end']\n",
    "                    elif ' to ' in user_request[:entity['start']]:\n",
    "                        destination = entity['word']\n",
    "                        destination_end = entity['end']\n",
    "                        \n",
    "                elif departure_end is not None and entity['start'] == departure_end+1:\n",
    "                        departure += ' '+ entity['word']\n",
    "                \n",
    "                elif destination == 'Unspecified':\n",
    "                    destination = entity['word']\n",
    "                    destination_end = entity['end']\n",
    "\n",
    "                elif destination_end is not None and entity['start'] == destination_end+1:\n",
    "                        destination += ' '+ entity['word']\n",
    "                else:\n",
    "                    pass\n",
    "\n",
    "        matches = datefinder.find_dates(user_request)\n",
    "        match = next(matches, None)\n",
    "        date = match.strftime(\"%d-%m-%Y\") if match else 'Unspecified'\n",
    "            \n",
    "        return name.title(), departure.title(), destination.title(), date\n",
    "\n"
   ]
  },
  {
   "cell_type": "code",
   "execution_count": 6,
   "id": "009a9b85-564f-4ab2-93cc-b00b3a4cd457",
   "metadata": {},
   "outputs": [
    {
     "name": "stderr",
     "output_type": "stream",
     "text": [
      "Some weights of the model checkpoint at dslim/bert-base-NER were not used when initializing BertForTokenClassification: ['bert.pooler.dense.bias', 'bert.pooler.dense.weight']\n",
      "- This IS expected if you are initializing BertForTokenClassification from the checkpoint of a model trained on another task or with another architecture (e.g. initializing a BertForSequenceClassification model from a BertForPreTraining model).\n",
      "- This IS NOT expected if you are initializing BertForTokenClassification from the checkpoint of a model that you expect to be exactly identical (initializing a BertForSequenceClassification model from a BertForSequenceClassification model).\n"
     ]
    }
   ],
   "source": [
    "model = HfBERTModel()"
   ]
  },
  {
   "cell_type": "code",
   "execution_count": 7,
   "id": "4489e955-c97a-4b70-acbe-2d1a15fa2fe8",
   "metadata": {},
   "outputs": [
    {
     "name": "stdout",
     "output_type": "stream",
     "text": [
      "Name: Olivia Parker, True_Name: Olivia Parker\n",
      "Departure: Barcelona, True_Departure: Barcelona\n",
      "Destination: Amsterdam, True_Destination: Amsterdam\n",
      "Date: 20-05-2024, True_Date: 20-05-2024\n",
      "---------------------------------------------\n",
      "Name: Henry Wright, True_Name: Henry Wright\n",
      "Departure: Seoul, True_Departure: Seoul\n",
      "Destination: Sydney, True_Destination: Sydney\n",
      "Date: 08-09-2024, True_Date: 08-09-2024\n",
      "---------------------------------------------\n",
      "Name: Lily Johnson, True_Name: Lily Johnson\n",
      "Departure: Rome, True_Departure: Rome\n",
      "Destination: Paris, True_Destination: Paris\n",
      "Date: 12-07-2024, True_Date: 12-07-2024\n",
      "---------------------------------------------\n",
      "Name: Lucas Thompson, True_Name: Lucas Thompson\n",
      "Departure: New Delhi, True_Departure: New Delhi\n",
      "Destination: Dubai, True_Destination: Dubai\n",
      "Date: 05-10-2024, True_Date: 05-10-2024\n",
      "---------------------------------------------\n",
      "Name: Isabelle Brown, True_Name: Isabelle Brown\n",
      "Departure: Tokyo, True_Departure: Tokyo\n",
      "Destination: London, True_Destination: London\n",
      "Date: 15-04-2024, True_Date: 15-04-2024\n",
      "---------------------------------------------\n"
     ]
    }
   ],
   "source": [
    "test_n_samples(model, user_requests, required_data, 5)"
   ]
  },
  {
   "cell_type": "markdown",
   "id": "dfd792e4-fb91-42b6-ba68-d2d7fd22dde3",
   "metadata": {},
   "source": [
    "# RoBERTa Large"
   ]
  },
  {
   "cell_type": "code",
   "execution_count": 8,
   "id": "2f4b187e-b648-47a7-9252-99fb85865e60",
   "metadata": {},
   "outputs": [],
   "source": [
    "class HfRoBERTaModel():\n",
    "    def __init__(self):\n",
    "        tokenizer = AutoTokenizer.from_pretrained(\"Jean-Baptiste/roberta-large-ner-english\")\n",
    "        model = AutoModelForTokenClassification.from_pretrained(\"Jean-Baptiste/roberta-large-ner-english\")\n",
    "        self.model = pipeline('ner', model=model, tokenizer=tokenizer, aggregation_strategy=\"simple\")\n",
    "        \n",
    "    def extract_flight_details(self, user_request):\n",
    "        # Initializing base variables\n",
    "        name = 'Unspecified'\n",
    "        departure = 'Unspecified'\n",
    "        destination = 'Unspecified'\n",
    "        date = 'Unspecified'\n",
    "        \n",
    "        ner_results = self.model(user_request)\n",
    "\n",
    "        for entity in ner_results:\n",
    "            if entity['entity_group'] == 'PER':\n",
    "                if name == 'Unspecified':\n",
    "                    name = entity['word']\n",
    "                    \n",
    "            elif entity['entity_group'] in ['LOC']:\n",
    "                if departure == 'Unspecified':\n",
    "                    if ' from ' in user_request[:entity['start']]:\n",
    "                        departure = entity['word']\n",
    "                    elif ' to ' in user_request[:entity['start']]:\n",
    "                        destination = entity['word']\n",
    "                elif destination == 'Unspecified':\n",
    "                    destination = entity['word']\n",
    "        \n",
    "        matches = datefinder.find_dates(user_request)\n",
    "        match = next(matches, None)\n",
    "        date = match.strftime(\"%d-%m-%Y\") if match else 'Unspecified'\n",
    "        \n",
    "        return name.title().strip(), departure.title().strip(), destination.title().strip(), date\n"
   ]
  },
  {
   "cell_type": "code",
   "execution_count": 9,
   "id": "f6876f13-6689-465b-951f-166d804105c8",
   "metadata": {},
   "outputs": [],
   "source": [
    "model = HfRoBERTaModel()"
   ]
  },
  {
   "cell_type": "code",
   "execution_count": 10,
   "id": "c81b2b0c-14f4-4ab7-a3df-c559fc84ee9b",
   "metadata": {},
   "outputs": [
    {
     "name": "stdout",
     "output_type": "stream",
     "text": [
      "Name: Olivia Parker, True_Name: Olivia Parker\n",
      "Departure: Barcelona, True_Departure: Barcelona\n",
      "Destination: Amsterdam, True_Destination: Amsterdam\n",
      "Date: 20-05-2024, True_Date: 20-05-2024\n",
      "---------------------------------------------\n",
      "Name: Henry Wright, True_Name: Henry Wright\n",
      "Departure: Seoul, True_Departure: Seoul\n",
      "Destination: Sydney, True_Destination: Sydney\n",
      "Date: 08-09-2024, True_Date: 08-09-2024\n",
      "---------------------------------------------\n",
      "Name: Lily Johnson, True_Name: Lily Johnson\n",
      "Departure: Rome, True_Departure: Rome\n",
      "Destination: Paris, True_Destination: Paris\n",
      "Date: 12-07-2024, True_Date: 12-07-2024\n",
      "---------------------------------------------\n",
      "Name: Lucas Thompson, True_Name: Lucas Thompson\n",
      "Departure: New Delhi, True_Departure: New Delhi\n",
      "Destination: Dubai, True_Destination: Dubai\n",
      "Date: 05-10-2024, True_Date: 05-10-2024\n",
      "---------------------------------------------\n",
      "Name: Isabelle Brown, True_Name: Isabelle Brown\n",
      "Departure: Tokyo, True_Departure: Tokyo\n",
      "Destination: London, True_Destination: London\n",
      "Date: 15-04-2024, True_Date: 15-04-2024\n",
      "---------------------------------------------\n"
     ]
    }
   ],
   "source": [
    "test_n_samples(model, user_requests, required_data, 5)"
   ]
  },
  {
   "cell_type": "code",
   "execution_count": null,
   "id": "8295d560-6f80-46f4-b9f1-18f4f7e004eb",
   "metadata": {},
   "outputs": [],
   "source": []
  },
  {
   "cell_type": "markdown",
   "id": "8c41625f-e913-47c7-bb73-450662cf7b3a",
   "metadata": {},
   "source": [
    "# Electra model with large discriminator"
   ]
  },
  {
   "cell_type": "code",
   "execution_count": 11,
   "id": "8b87728b-4a29-403e-88e2-9e299e837f38",
   "metadata": {},
   "outputs": [],
   "source": [
    "class HfElectraModel():\n",
    "    def __init__(self):\n",
    "        self.model = pipeline(\"ner\", model=\"dbmdz/electra-large-discriminator-finetuned-conll03-english\", grouped_entities=True)\n",
    "\n",
    "    def extract_flight_details(self, user_request):\n",
    "        # Initializing base variables\n",
    "        name = 'Unspecified'\n",
    "        departure = 'Unspecified'\n",
    "        destination = 'Unspecified'\n",
    "        date = 'Unspecified'\n",
    "        \n",
    "        ner_results = self.model(user_request)\n",
    "\n",
    "        for entity in ner_results:\n",
    "            if entity['entity_group'] == 'PER':\n",
    "                if name == 'Unspecified':\n",
    "                    name = entity['word']\n",
    "                    \n",
    "            elif entity['entity_group'] in ['LOC']:\n",
    "                if departure == 'Unspecified':\n",
    "                    if ' from ' in user_request[:entity['start']]:\n",
    "                        departure = entity['word']\n",
    "                    elif ' to ' in user_request[:entity['start']]:\n",
    "                        destination = entity['word']\n",
    "                elif destination == 'Unspecified':\n",
    "                    destination = entity['word']\n",
    "\n",
    "        matches = datefinder.find_dates(user_request)\n",
    "        match = next(matches, None)\n",
    "        date = match.strftime(\"%d-%m-%Y\") if match else 'Unspecified'\n",
    "            \n",
    "        return name.title(), departure.title(), destination.title(), date"
   ]
  },
  {
   "cell_type": "code",
   "execution_count": 12,
   "id": "81d52cf5-073d-4c3b-b196-699805cb9751",
   "metadata": {},
   "outputs": [],
   "source": [
    "user_requests, required_data = load_test_data()"
   ]
  },
  {
   "cell_type": "code",
   "execution_count": 13,
   "id": "26f33e13-5208-4c93-8345-14761b4a6adb",
   "metadata": {},
   "outputs": [
    {
     "name": "stderr",
     "output_type": "stream",
     "text": [
      "/home/vlad/anaconda3/envs/work/lib/python3.9/site-packages/transformers/pipelines/token_classification.py:169: UserWarning: `grouped_entities` is deprecated and will be removed in version v5.0.0, defaulted to `aggregation_strategy=\"simple\"` instead.\n",
      "  warnings.warn(\n"
     ]
    }
   ],
   "source": [
    "model = HfElectraModel()"
   ]
  },
  {
   "cell_type": "code",
   "execution_count": 14,
   "id": "c9937ee1-4f86-420f-846b-dbab3a500075",
   "metadata": {},
   "outputs": [
    {
     "name": "stdout",
     "output_type": "stream",
     "text": [
      "Name: Olivia Parker, True_Name: Olivia Parker\n",
      "Departure: Barcelona, True_Departure: Barcelona\n",
      "Destination: Amsterdam, True_Destination: Amsterdam\n",
      "Date: 20-05-2024, True_Date: 20-05-2024\n",
      "---------------------------------------------\n",
      "Name: Henry Wright, True_Name: Henry Wright\n",
      "Departure: Seoul, True_Departure: Seoul\n",
      "Destination: Sydney, True_Destination: Sydney\n",
      "Date: 08-09-2024, True_Date: 08-09-2024\n",
      "---------------------------------------------\n",
      "Name: Lily Johnson, True_Name: Lily Johnson\n",
      "Departure: Rome, True_Departure: Rome\n",
      "Destination: Paris, True_Destination: Paris\n",
      "Date: 12-07-2024, True_Date: 12-07-2024\n",
      "---------------------------------------------\n",
      "Name: Lucas Thompson, True_Name: Lucas Thompson\n",
      "Departure: New Delhi, True_Departure: New Delhi\n",
      "Destination: Dubai, True_Destination: Dubai\n",
      "Date: 05-10-2024, True_Date: 05-10-2024\n",
      "---------------------------------------------\n",
      "Name: Isabelle Brown, True_Name: Isabelle Brown\n",
      "Departure: Tokyo, True_Departure: Tokyo\n",
      "Destination: London, True_Destination: London\n",
      "Date: 15-04-2024, True_Date: 15-04-2024\n",
      "---------------------------------------------\n"
     ]
    }
   ],
   "source": [
    "test_n_samples(model, user_requests, required_data, 5)"
   ]
  },
  {
   "cell_type": "code",
   "execution_count": null,
   "id": "f813e259-3d3a-4253-8e0e-b1e96a06fe8f",
   "metadata": {},
   "outputs": [],
   "source": []
  }
 ],
 "metadata": {
  "kernelspec": {
   "display_name": "Python 3 (ipykernel)",
   "language": "python",
   "name": "python3"
  },
  "language_info": {
   "codemirror_mode": {
    "name": "ipython",
    "version": 3
   },
   "file_extension": ".py",
   "mimetype": "text/x-python",
   "name": "python",
   "nbconvert_exporter": "python",
   "pygments_lexer": "ipython3",
   "version": "3.9.18"
  }
 },
 "nbformat": 4,
 "nbformat_minor": 5
}
