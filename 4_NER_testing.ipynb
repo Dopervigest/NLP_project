{
 "cells": [
  {
   "cell_type": "markdown",
   "id": "c4fbc4be-6462-4482-935b-b5c8cde5183f",
   "metadata": {},
   "source": [
    "# Testing the accuracy of created pipelines\n",
    "### All models are loaded and used with train data, after which the scores are computed "
   ]
  },
  {
   "cell_type": "code",
   "execution_count": 1,
   "id": "b2ee276a-6bd4-4e41-b495-86a003d5060c",
   "metadata": {},
   "outputs": [],
   "source": [
    "from scripts import load_test_data\n",
    "from ner_models import (RegexModel,\n",
    "                        HfBERTModel,\n",
    "                        HfBERTUncasedModel,\n",
    "                        HfRoBERTaModel,\n",
    "                        HfElectraModel,\n",
    "                        SpacyLgModel,\n",
    "                        SpacyTrfModel,\n",
    "                        FlairModel)"
   ]
  },
  {
   "cell_type": "code",
   "execution_count": 2,
   "id": "50602362-24ad-4792-a6f2-c5859f0e7d88",
   "metadata": {},
   "outputs": [],
   "source": [
    "user_requests, required_data = load_test_data()"
   ]
  },
  {
   "cell_type": "code",
   "execution_count": 3,
   "id": "3d9842bc-dd75-4bcc-aedf-36ebfff85a26",
   "metadata": {},
   "outputs": [
    {
     "data": {
      "text/plain": [
       "\"Hello, I'm Olivia Parker, I want to fly from Barcelona to Amsterdam on 20th May 2024.\""
      ]
     },
     "execution_count": 3,
     "metadata": {},
     "output_type": "execute_result"
    }
   ],
   "source": [
    "user_requests[0]"
   ]
  },
  {
   "cell_type": "code",
   "execution_count": 4,
   "id": "6f57d73f-57f3-412e-9d3e-84f17b12ec9c",
   "metadata": {},
   "outputs": [
    {
     "data": {
      "text/plain": [
       "{'name': 'Olivia Parker',\n",
       " 'departure': 'Barcelona',\n",
       " 'destination': 'Amsterdam',\n",
       " 'date': '20-05-2024'}"
      ]
     },
     "execution_count": 4,
     "metadata": {},
     "output_type": "execute_result"
    }
   ],
   "source": [
    "required_data[0]"
   ]
  },
  {
   "cell_type": "code",
   "execution_count": 5,
   "id": "978a5342-955d-4d68-a07f-98ff8318ca89",
   "metadata": {},
   "outputs": [
    {
     "data": {
      "text/plain": [
       "('Olivia Parker', 'Barcelona', 'Amsterdam', '20-05-2024')"
      ]
     },
     "execution_count": 5,
     "metadata": {},
     "output_type": "execute_result"
    }
   ],
   "source": [
    "RegexModel().extract_flight_details(user_requests[0])"
   ]
  },
  {
   "cell_type": "code",
   "execution_count": 6,
   "id": "af6e38f6-40f7-46d1-a5f7-b6bfe9126a47",
   "metadata": {},
   "outputs": [],
   "source": [
    "def compute_accuracy(model, user_requests, required_data, return_all=False):\n",
    "    answers_all = []\n",
    "    answers_name = []\n",
    "    answers_departure = []\n",
    "    answers_destination = []\n",
    "    answers_date = []\n",
    "\n",
    "    for i in range(len(user_requests)):\n",
    "        request = user_requests[i]\n",
    "        true_name = required_data[i]['name']\n",
    "        true_departure = required_data[i]['departure']\n",
    "        true_destination = required_data[i]['destination']\n",
    "        true_date = required_data[i]['date']\n",
    "\n",
    "        pred_name, pred_departure, pred_destination, pred_date = model.extract_flight_details(request)\n",
    "\n",
    "        name = true_name == pred_name\n",
    "        departure = true_departure == pred_departure\n",
    "        destination = true_destination == pred_destination\n",
    "        date = true_date == pred_date\n",
    "        if name and departure and destination and date:\n",
    "            answers_all.append(1)\n",
    "        else:\n",
    "            answers_all.append(0)\n",
    "\n",
    "        answers_name.append(1) if name else answers_name.append(0)\n",
    "        answers_departure.append(1) if departure else answers_departure.append(0)\n",
    "        answers_destination.append(1) if destination else answers_destination.append(0)\n",
    "        answers_date.append(1) if date else answers_date.append(0)\n",
    "        \n",
    "    if return_all:\n",
    "        return answers_all, answers_name, answers_departure, answers_destination, answers_date\n",
    "    else:\n",
    "        dict = {}\n",
    "        for num, i in enumerate(range(0, len(answers_all)-1, 20)):\n",
    "            dict[f'group_{num+1}'] = ((sum(answers_all[i:i+20]))/20) * 100\n",
    "        \n",
    "        dict['whole'] = ((sum(answers_all))/ len(answers_all)) * 100\n",
    "        dict['name'] = ((sum(answers_name))/ len(answers_all)) * 100\n",
    "        dict['departure'] = ((sum(answers_departure))/ len(answers_all)) * 100\n",
    "        dict['destination'] = ((sum(answers_destination))/ len(answers_all)) * 100\n",
    "        dict['date'] = ((sum(answers_date))/ len(answers_all)) * 100\n",
    "        return dict"
   ]
  },
  {
   "cell_type": "code",
   "execution_count": 7,
   "id": "d7203bd9-6d74-4899-bbfd-1bd2597d9601",
   "metadata": {},
   "outputs": [],
   "source": [
    "#answers_all, answers_name, answers_departure, answers_destination, answers_date = compute_accuracy(RegexModel(), user_requests, required_data)"
   ]
  },
  {
   "cell_type": "code",
   "execution_count": 8,
   "id": "fb61e038-65ce-4698-95bb-fb57095c60ce",
   "metadata": {},
   "outputs": [
    {
     "name": "stderr",
     "output_type": "stream",
     "text": [
      "Some weights of the model checkpoint at dslim/bert-base-NER were not used when initializing BertForTokenClassification: ['bert.pooler.dense.weight', 'bert.pooler.dense.bias']\n",
      "- This IS expected if you are initializing BertForTokenClassification from the checkpoint of a model trained on another task or with another architecture (e.g. initializing a BertForSequenceClassification model from a BertForPreTraining model).\n",
      "- This IS NOT expected if you are initializing BertForTokenClassification from the checkpoint of a model that you expect to be exactly identical (initializing a BertForSequenceClassification model from a BertForSequenceClassification model).\n",
      "Some weights of the model checkpoint at dslim/bert-base-NER-uncased were not used when initializing BertForTokenClassification: ['bert.pooler.dense.weight', 'bert.pooler.dense.bias']\n",
      "- This IS expected if you are initializing BertForTokenClassification from the checkpoint of a model trained on another task or with another architecture (e.g. initializing a BertForSequenceClassification model from a BertForPreTraining model).\n",
      "- This IS NOT expected if you are initializing BertForTokenClassification from the checkpoint of a model that you expect to be exactly identical (initializing a BertForSequenceClassification model from a BertForSequenceClassification model).\n",
      "/home/vlad/anaconda3/envs/work/lib/python3.9/site-packages/transformers/pipelines/token_classification.py:169: UserWarning: `grouped_entities` is deprecated and will be removed in version v5.0.0, defaulted to `aggregation_strategy=\"simple\"` instead.\n",
      "  warnings.warn(\n"
     ]
    },
    {
     "name": "stdout",
     "output_type": "stream",
     "text": [
      "2023-11-30 13:09:31,952 SequenceTagger predicts: Dictionary with 76 tags: <unk>, O, B-CARDINAL, E-CARDINAL, S-PERSON, S-CARDINAL, S-PRODUCT, B-PRODUCT, I-PRODUCT, E-PRODUCT, B-WORK_OF_ART, I-WORK_OF_ART, E-WORK_OF_ART, B-PERSON, E-PERSON, S-GPE, B-DATE, I-DATE, E-DATE, S-ORDINAL, S-LANGUAGE, I-PERSON, S-EVENT, S-DATE, B-QUANTITY, E-QUANTITY, S-TIME, B-TIME, I-TIME, E-TIME, B-GPE, E-GPE, S-ORG, I-GPE, S-NORP, B-FAC, I-FAC, E-FAC, B-NORP, E-NORP, S-PERCENT, B-ORG, E-ORG, B-LANGUAGE, E-LANGUAGE, I-CARDINAL, I-ORG, S-WORK_OF_ART, I-QUANTITY, B-MONEY\n"
     ]
    }
   ],
   "source": [
    "score = {}\n",
    "score['RegexModel'] = compute_accuracy(RegexModel(), user_requests, required_data)\n",
    "score['HfBERTModel'] = compute_accuracy(HfBERTModel(), user_requests, required_data)\n",
    "score['HfBERTUncasedModel'] = compute_accuracy(HfBERTUncasedModel(), user_requests, required_data)\n",
    "score['HfRoBERTaModel'] = compute_accuracy(HfRoBERTaModel(), user_requests, required_data)\n",
    "score['HfElectraModel'] = compute_accuracy(HfElectraModel(), user_requests, required_data)\n",
    "score['SpacyLgModel'] = compute_accuracy(SpacyLgModel(), user_requests, required_data)\n",
    "score['SpacyTrfModel'] = compute_accuracy(SpacyTrfModel(), user_requests, required_data)\n",
    "score['FlairModel'] = compute_accuracy(FlairModel(), user_requests, required_data)"
   ]
  },
  {
   "cell_type": "code",
   "execution_count": 9,
   "id": "1b043b75-1bb6-41db-bbf1-b0bb9a481507",
   "metadata": {},
   "outputs": [
    {
     "data": {
      "text/plain": [
       "{'RegexModel': {'group_1': 65.0,\n",
       "  'group_2': 0.0,\n",
       "  'group_3': 60.0,\n",
       "  'group_4': 0.0,\n",
       "  'group_5': 0.0,\n",
       "  'group_6': 35.0,\n",
       "  'whole': 26.666666666666668,\n",
       "  'name': 72.5,\n",
       "  'departure': 71.66666666666667,\n",
       "  'destination': 69.16666666666667,\n",
       "  'date': 48.333333333333336},\n",
       " 'HfBERTModel': {'group_1': 100.0,\n",
       "  'group_2': 100.0,\n",
       "  'group_3': 100.0,\n",
       "  'group_4': 0.0,\n",
       "  'group_5': 95.0,\n",
       "  'group_6': 95.0,\n",
       "  'whole': 81.66666666666667,\n",
       "  'name': 83.33333333333334,\n",
       "  'departure': 83.33333333333334,\n",
       "  'destination': 82.5,\n",
       "  'date': 97.5},\n",
       " 'HfBERTUncasedModel': {'group_1': 100.0,\n",
       "  'group_2': 100.0,\n",
       "  'group_3': 100.0,\n",
       "  'group_4': 60.0,\n",
       "  'group_5': 95.0,\n",
       "  'group_6': 95.0,\n",
       "  'whole': 91.66666666666666,\n",
       "  'name': 100.0,\n",
       "  'departure': 95.0,\n",
       "  'destination': 98.33333333333333,\n",
       "  'date': 97.5},\n",
       " 'HfRoBERTaModel': {'group_1': 100.0,\n",
       "  'group_2': 100.0,\n",
       "  'group_3': 100.0,\n",
       "  'group_4': 60.0,\n",
       "  'group_5': 95.0,\n",
       "  'group_6': 100.0,\n",
       "  'whole': 92.5,\n",
       "  'name': 100.0,\n",
       "  'departure': 95.0,\n",
       "  'destination': 100.0,\n",
       "  'date': 97.5},\n",
       " 'HfElectraModel': {'group_1': 100.0,\n",
       "  'group_2': 100.0,\n",
       "  'group_3': 100.0,\n",
       "  'group_4': 55.00000000000001,\n",
       "  'group_5': 95.0,\n",
       "  'group_6': 100.0,\n",
       "  'whole': 91.66666666666666,\n",
       "  'name': 98.33333333333333,\n",
       "  'departure': 95.0,\n",
       "  'destination': 100.0,\n",
       "  'date': 97.5},\n",
       " 'SpacyLgModel': {'group_1': 90.0,\n",
       "  'group_2': 10.0,\n",
       "  'group_3': 90.0,\n",
       "  'group_4': 0.0,\n",
       "  'group_5': 55.00000000000001,\n",
       "  'group_6': 70.0,\n",
       "  'whole': 52.5,\n",
       "  'name': 80.0,\n",
       "  'departure': 83.33333333333334,\n",
       "  'destination': 83.33333333333334,\n",
       "  'date': 60.0},\n",
       " 'SpacyTrfModel': {'group_1': 100.0,\n",
       "  'group_2': 90.0,\n",
       "  'group_3': 100.0,\n",
       "  'group_4': 0.0,\n",
       "  'group_5': 50.0,\n",
       "  'group_6': 100.0,\n",
       "  'whole': 73.33333333333333,\n",
       "  'name': 83.33333333333334,\n",
       "  'departure': 83.33333333333334,\n",
       "  'destination': 83.33333333333334,\n",
       "  'date': 85.83333333333333},\n",
       " 'FlairModel': {'group_1': 100.0,\n",
       "  'group_2': 100.0,\n",
       "  'group_3': 100.0,\n",
       "  'group_4': 95.0,\n",
       "  'group_5': 100.0,\n",
       "  'group_6': 100.0,\n",
       "  'whole': 99.16666666666667,\n",
       "  'name': 100.0,\n",
       "  'departure': 99.16666666666667,\n",
       "  'destination': 100.0,\n",
       "  'date': 100.0}}"
      ]
     },
     "execution_count": 9,
     "metadata": {},
     "output_type": "execute_result"
    }
   ],
   "source": [
    "score"
   ]
  },
  {
   "cell_type": "markdown",
   "id": "b4c3a6c2-03ce-4157-b541-61f3f5644e13",
   "metadata": {},
   "source": [
    "# Making table for report"
   ]
  },
  {
   "cell_type": "code",
   "execution_count": 10,
   "id": "90daf597-c385-44de-8372-a586ad2a3045",
   "metadata": {},
   "outputs": [],
   "source": [
    "import pandas as pd    "
   ]
  },
  {
   "cell_type": "code",
   "execution_count": 11,
   "id": "15ca3e58-0903-46a3-8ede-29799bca1766",
   "metadata": {},
   "outputs": [],
   "source": [
    "models = list(score.keys())"
   ]
  },
  {
   "cell_type": "code",
   "execution_count": 12,
   "id": "4ab781b6-02cb-4f86-8076-c823255cfd11",
   "metadata": {},
   "outputs": [],
   "source": [
    "gr1, gr2, gr3, gr4, gr5, gr6, whole, name, departure, destination, date = [],[],[],[],[],[],[],[],[],[],[]\n",
    "for model in models:\n",
    "    gr1.append(score[model]['group_1'])\n",
    "    gr2.append(score[model]['group_2'])\n",
    "    gr3.append(score[model]['group_3'])\n",
    "    gr4.append(score[model]['group_4'])\n",
    "    gr5.append(score[model]['group_5'])\n",
    "    gr6.append(score[model]['group_6'])\n",
    "\n",
    "    whole.append(score[model]['whole'])\n",
    "\n",
    "    name.append(score[model]['name'])\n",
    "    departure.append(score[model]['departure'])\n",
    "    destination.append(score[model]['destination'])\n",
    "    date.append(score[model]['date'])"
   ]
  },
  {
   "cell_type": "code",
   "execution_count": 13,
   "id": "52323e7e-c881-4a25-b926-8fb6e9caba38",
   "metadata": {},
   "outputs": [],
   "source": [
    "df = pd.DataFrame()\n",
    "df['models'] = models\n",
    "df['group_1'] = gr1\n",
    "df['group_2'] = gr2\n",
    "df['group_3'] = gr3\n",
    "df['group_4'] = gr4\n",
    "df['group_5'] = gr5\n",
    "df['group_6'] = gr6\n",
    "df['whole'] = whole"
   ]
  },
  {
   "cell_type": "code",
   "execution_count": 14,
   "id": "df0cf779-b759-4921-92b7-1e597b2e8f5d",
   "metadata": {},
   "outputs": [
    {
     "data": {
      "text/html": [
       "<div>\n",
       "<style scoped>\n",
       "    .dataframe tbody tr th:only-of-type {\n",
       "        vertical-align: middle;\n",
       "    }\n",
       "\n",
       "    .dataframe tbody tr th {\n",
       "        vertical-align: top;\n",
       "    }\n",
       "\n",
       "    .dataframe thead th {\n",
       "        text-align: right;\n",
       "    }\n",
       "</style>\n",
       "<table border=\"1\" class=\"dataframe\">\n",
       "  <thead>\n",
       "    <tr style=\"text-align: right;\">\n",
       "      <th></th>\n",
       "      <th>models</th>\n",
       "      <th>group_1</th>\n",
       "      <th>group_2</th>\n",
       "      <th>group_3</th>\n",
       "      <th>group_4</th>\n",
       "      <th>group_5</th>\n",
       "      <th>group_6</th>\n",
       "      <th>whole</th>\n",
       "    </tr>\n",
       "  </thead>\n",
       "  <tbody>\n",
       "    <tr>\n",
       "      <th>0</th>\n",
       "      <td>RegexModel</td>\n",
       "      <td>65.0</td>\n",
       "      <td>0.0</td>\n",
       "      <td>60.0</td>\n",
       "      <td>0.0</td>\n",
       "      <td>0.0</td>\n",
       "      <td>35.0</td>\n",
       "      <td>26.666667</td>\n",
       "    </tr>\n",
       "    <tr>\n",
       "      <th>1</th>\n",
       "      <td>HfBERTModel</td>\n",
       "      <td>100.0</td>\n",
       "      <td>100.0</td>\n",
       "      <td>100.0</td>\n",
       "      <td>0.0</td>\n",
       "      <td>95.0</td>\n",
       "      <td>95.0</td>\n",
       "      <td>81.666667</td>\n",
       "    </tr>\n",
       "    <tr>\n",
       "      <th>2</th>\n",
       "      <td>HfBERTUncasedModel</td>\n",
       "      <td>100.0</td>\n",
       "      <td>100.0</td>\n",
       "      <td>100.0</td>\n",
       "      <td>60.0</td>\n",
       "      <td>95.0</td>\n",
       "      <td>95.0</td>\n",
       "      <td>91.666667</td>\n",
       "    </tr>\n",
       "    <tr>\n",
       "      <th>3</th>\n",
       "      <td>HfRoBERTaModel</td>\n",
       "      <td>100.0</td>\n",
       "      <td>100.0</td>\n",
       "      <td>100.0</td>\n",
       "      <td>60.0</td>\n",
       "      <td>95.0</td>\n",
       "      <td>100.0</td>\n",
       "      <td>92.500000</td>\n",
       "    </tr>\n",
       "    <tr>\n",
       "      <th>4</th>\n",
       "      <td>HfElectraModel</td>\n",
       "      <td>100.0</td>\n",
       "      <td>100.0</td>\n",
       "      <td>100.0</td>\n",
       "      <td>55.0</td>\n",
       "      <td>95.0</td>\n",
       "      <td>100.0</td>\n",
       "      <td>91.666667</td>\n",
       "    </tr>\n",
       "    <tr>\n",
       "      <th>5</th>\n",
       "      <td>SpacyLgModel</td>\n",
       "      <td>90.0</td>\n",
       "      <td>10.0</td>\n",
       "      <td>90.0</td>\n",
       "      <td>0.0</td>\n",
       "      <td>55.0</td>\n",
       "      <td>70.0</td>\n",
       "      <td>52.500000</td>\n",
       "    </tr>\n",
       "    <tr>\n",
       "      <th>6</th>\n",
       "      <td>SpacyTrfModel</td>\n",
       "      <td>100.0</td>\n",
       "      <td>90.0</td>\n",
       "      <td>100.0</td>\n",
       "      <td>0.0</td>\n",
       "      <td>50.0</td>\n",
       "      <td>100.0</td>\n",
       "      <td>73.333333</td>\n",
       "    </tr>\n",
       "    <tr>\n",
       "      <th>7</th>\n",
       "      <td>FlairModel</td>\n",
       "      <td>100.0</td>\n",
       "      <td>100.0</td>\n",
       "      <td>100.0</td>\n",
       "      <td>95.0</td>\n",
       "      <td>100.0</td>\n",
       "      <td>100.0</td>\n",
       "      <td>99.166667</td>\n",
       "    </tr>\n",
       "  </tbody>\n",
       "</table>\n",
       "</div>"
      ],
      "text/plain": [
       "               models  group_1  group_2  group_3  group_4  group_5  group_6  \\\n",
       "0          RegexModel     65.0      0.0     60.0      0.0      0.0     35.0   \n",
       "1         HfBERTModel    100.0    100.0    100.0      0.0     95.0     95.0   \n",
       "2  HfBERTUncasedModel    100.0    100.0    100.0     60.0     95.0     95.0   \n",
       "3      HfRoBERTaModel    100.0    100.0    100.0     60.0     95.0    100.0   \n",
       "4      HfElectraModel    100.0    100.0    100.0     55.0     95.0    100.0   \n",
       "5        SpacyLgModel     90.0     10.0     90.0      0.0     55.0     70.0   \n",
       "6       SpacyTrfModel    100.0     90.0    100.0      0.0     50.0    100.0   \n",
       "7          FlairModel    100.0    100.0    100.0     95.0    100.0    100.0   \n",
       "\n",
       "       whole  \n",
       "0  26.666667  \n",
       "1  81.666667  \n",
       "2  91.666667  \n",
       "3  92.500000  \n",
       "4  91.666667  \n",
       "5  52.500000  \n",
       "6  73.333333  \n",
       "7  99.166667  "
      ]
     },
     "execution_count": 14,
     "metadata": {},
     "output_type": "execute_result"
    }
   ],
   "source": [
    "df"
   ]
  },
  {
   "cell_type": "code",
   "execution_count": 15,
   "id": "1280bbb8-1156-4173-9d16-4b9efc04ccf4",
   "metadata": {},
   "outputs": [],
   "source": [
    "df.to_excel(\"df1.xlsx\") "
   ]
  },
  {
   "cell_type": "code",
   "execution_count": 16,
   "id": "31083800-ae07-477e-bb1b-22fa5cb01329",
   "metadata": {},
   "outputs": [
    {
     "data": {
      "text/html": [
       "<div>\n",
       "<style scoped>\n",
       "    .dataframe tbody tr th:only-of-type {\n",
       "        vertical-align: middle;\n",
       "    }\n",
       "\n",
       "    .dataframe tbody tr th {\n",
       "        vertical-align: top;\n",
       "    }\n",
       "\n",
       "    .dataframe thead th {\n",
       "        text-align: right;\n",
       "    }\n",
       "</style>\n",
       "<table border=\"1\" class=\"dataframe\">\n",
       "  <thead>\n",
       "    <tr style=\"text-align: right;\">\n",
       "      <th></th>\n",
       "      <th>models</th>\n",
       "      <th>name</th>\n",
       "      <th>departure</th>\n",
       "      <th>destination</th>\n",
       "      <th>date</th>\n",
       "    </tr>\n",
       "  </thead>\n",
       "  <tbody>\n",
       "    <tr>\n",
       "      <th>0</th>\n",
       "      <td>RegexModel</td>\n",
       "      <td>72.500000</td>\n",
       "      <td>71.666667</td>\n",
       "      <td>69.166667</td>\n",
       "      <td>48.333333</td>\n",
       "    </tr>\n",
       "    <tr>\n",
       "      <th>1</th>\n",
       "      <td>HfBERTModel</td>\n",
       "      <td>83.333333</td>\n",
       "      <td>83.333333</td>\n",
       "      <td>82.500000</td>\n",
       "      <td>97.500000</td>\n",
       "    </tr>\n",
       "    <tr>\n",
       "      <th>2</th>\n",
       "      <td>HfBERTUncasedModel</td>\n",
       "      <td>100.000000</td>\n",
       "      <td>95.000000</td>\n",
       "      <td>98.333333</td>\n",
       "      <td>97.500000</td>\n",
       "    </tr>\n",
       "    <tr>\n",
       "      <th>3</th>\n",
       "      <td>HfRoBERTaModel</td>\n",
       "      <td>100.000000</td>\n",
       "      <td>95.000000</td>\n",
       "      <td>100.000000</td>\n",
       "      <td>97.500000</td>\n",
       "    </tr>\n",
       "    <tr>\n",
       "      <th>4</th>\n",
       "      <td>HfElectraModel</td>\n",
       "      <td>98.333333</td>\n",
       "      <td>95.000000</td>\n",
       "      <td>100.000000</td>\n",
       "      <td>97.500000</td>\n",
       "    </tr>\n",
       "    <tr>\n",
       "      <th>5</th>\n",
       "      <td>SpacyLgModel</td>\n",
       "      <td>80.000000</td>\n",
       "      <td>83.333333</td>\n",
       "      <td>83.333333</td>\n",
       "      <td>60.000000</td>\n",
       "    </tr>\n",
       "    <tr>\n",
       "      <th>6</th>\n",
       "      <td>SpacyTrfModel</td>\n",
       "      <td>83.333333</td>\n",
       "      <td>83.333333</td>\n",
       "      <td>83.333333</td>\n",
       "      <td>85.833333</td>\n",
       "    </tr>\n",
       "    <tr>\n",
       "      <th>7</th>\n",
       "      <td>FlairModel</td>\n",
       "      <td>100.000000</td>\n",
       "      <td>99.166667</td>\n",
       "      <td>100.000000</td>\n",
       "      <td>100.000000</td>\n",
       "    </tr>\n",
       "  </tbody>\n",
       "</table>\n",
       "</div>"
      ],
      "text/plain": [
       "               models        name  departure  destination        date\n",
       "0          RegexModel   72.500000  71.666667    69.166667   48.333333\n",
       "1         HfBERTModel   83.333333  83.333333    82.500000   97.500000\n",
       "2  HfBERTUncasedModel  100.000000  95.000000    98.333333   97.500000\n",
       "3      HfRoBERTaModel  100.000000  95.000000   100.000000   97.500000\n",
       "4      HfElectraModel   98.333333  95.000000   100.000000   97.500000\n",
       "5        SpacyLgModel   80.000000  83.333333    83.333333   60.000000\n",
       "6       SpacyTrfModel   83.333333  83.333333    83.333333   85.833333\n",
       "7          FlairModel  100.000000  99.166667   100.000000  100.000000"
      ]
     },
     "execution_count": 16,
     "metadata": {},
     "output_type": "execute_result"
    }
   ],
   "source": [
    "df2 = pd.DataFrame()\n",
    "df2['models'] = models\n",
    "df2['name'] = name\n",
    "df2['departure'] = departure\n",
    "df2['destination'] = destination\n",
    "df2['date'] = date\n",
    "df2"
   ]
  },
  {
   "cell_type": "code",
   "execution_count": 17,
   "id": "62d0565b-93bf-481a-8571-569527748a7f",
   "metadata": {},
   "outputs": [],
   "source": [
    "df2.to_excel(\"df2.xlsx\") "
   ]
  },
  {
   "cell_type": "code",
   "execution_count": null,
   "id": "deaf9987-b30b-40ab-902b-d5886c5cd4a2",
   "metadata": {},
   "outputs": [],
   "source": []
  }
 ],
 "metadata": {
  "kernelspec": {
   "display_name": "Python 3 (ipykernel)",
   "language": "python",
   "name": "python3"
  },
  "language_info": {
   "codemirror_mode": {
    "name": "ipython",
    "version": 3
   },
   "file_extension": ".py",
   "mimetype": "text/x-python",
   "name": "python",
   "nbconvert_exporter": "python",
   "pygments_lexer": "ipython3",
   "version": "3.9.18"
  }
 },
 "nbformat": 4,
 "nbformat_minor": 5
}
