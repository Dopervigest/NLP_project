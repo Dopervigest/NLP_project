{
 "cells": [
  {
   "cell_type": "code",
   "execution_count": 159,
   "id": "dcad5fe3-89b8-4242-bdf0-3a612bf18aa4",
   "metadata": {},
   "outputs": [
    {
     "name": "stdout",
     "output_type": "stream",
     "text": [
      "Requirement already satisfied: scikit-learn in /home/vlad/anaconda3/envs/work/lib/python3.9/site-packages (1.3.2)\n",
      "Requirement already satisfied: numpy<2.0,>=1.17.3 in /home/vlad/anaconda3/envs/work/lib/python3.9/site-packages (from scikit-learn) (1.26.2)\n",
      "Requirement already satisfied: scipy>=1.5.0 in /home/vlad/anaconda3/envs/work/lib/python3.9/site-packages (from scikit-learn) (1.11.4)\n",
      "Requirement already satisfied: joblib>=1.1.1 in /home/vlad/anaconda3/envs/work/lib/python3.9/site-packages (from scikit-learn) (1.3.2)\n",
      "Requirement already satisfied: threadpoolctl>=2.0.0 in /home/vlad/anaconda3/envs/work/lib/python3.9/site-packages (from scikit-learn) (3.2.0)\n",
      "Requirement already satisfied: tqdm in /home/vlad/anaconda3/envs/work/lib/python3.9/site-packages (4.66.1)\n"
     ]
    }
   ],
   "source": [
    "!pip install scikit-learn\n",
    "!pip install tqdm"
   ]
  },
  {
   "cell_type": "markdown",
   "id": "d7e2ac75-87ff-4256-9276-3c50e7fd3bcb",
   "metadata": {},
   "source": [
    "# IR training\n",
    "#### In this notebook Intent Recognition model is trained on a combination of ATIS (Airline Travel Information System), Ubuntu chat, and DailyDialogue datasets. All the data is stored in folder training_data. "
   ]
  },
  {
   "cell_type": "markdown",
   "id": "044b9055-4aee-4384-98d6-2a9d2ac6e5a2",
   "metadata": {},
   "source": [
    "# Data preprocessing\n",
    "## Since the data is from different sources it must be processed thoroughly"
   ]
  },
  {
   "cell_type": "code",
   "execution_count": 1,
   "id": "3eefca1b-a35a-4aca-8372-f96da2ebf733",
   "metadata": {},
   "outputs": [],
   "source": [
    "import random\n",
    "import itertools \n",
    "from sklearn.model_selection import train_test_split"
   ]
  },
  {
   "cell_type": "code",
   "execution_count": 2,
   "id": "2353a8e0-97c8-4707-9b1a-2bd52e388411",
   "metadata": {},
   "outputs": [
    {
     "name": "stdout",
     "output_type": "stream",
     "text": [
      "atis_test.json   end_dialogue_data.txt  test.json:Zone.Identifier\n",
      "atis_train.json  grateful_data.txt      train.json:Zone.Identifier\n",
      "dialogues.txt    misc.csv\n"
     ]
    }
   ],
   "source": [
    "ls training_data/"
   ]
  },
  {
   "cell_type": "markdown",
   "id": "31dcc121-191a-412e-a896-665443f26356",
   "metadata": {},
   "source": [
    "## ATIS data (flight details)"
   ]
  },
  {
   "cell_type": "code",
   "execution_count": 3,
   "id": "c86acc21-c151-4cad-b119-5b1fce1cb732",
   "metadata": {},
   "outputs": [],
   "source": [
    "import json\n",
    "with open(\"training_data/atis_train.json\") as json_file:\n",
    "    loaded_train_dict = json.load(json_file)\n",
    "with open(\"training_data/atis_test.json\") as json_file:\n",
    "    loaded_test_dict = json.load(json_file)"
   ]
  },
  {
   "cell_type": "code",
   "execution_count": 4,
   "id": "71ca9c56-7be1-4f2c-b95b-00b7784bd5a6",
   "metadata": {},
   "outputs": [],
   "source": [
    "loaded_train_dict = loaded_train_dict['rasa_nlu_data']['common_examples']\n",
    "loaded_test_dict = loaded_test_dict['rasa_nlu_data']['common_examples']"
   ]
  },
  {
   "cell_type": "code",
   "execution_count": 5,
   "id": "7c28da98-ea1f-4a8d-a710-8443f091c6d1",
   "metadata": {},
   "outputs": [],
   "source": [
    "def prepare_ATIS_data(loaded_dict):\n",
    "    sorted_dict = {}\n",
    "    for example in loaded_dict:\n",
    "        if example['intent'] not in sorted_dict:\n",
    "            sorted_dict[example['intent']] = []\n",
    "        sorted_dict[example['intent']].append(example['text'])\n",
    "    return sorted_dict"
   ]
  },
  {
   "cell_type": "code",
   "execution_count": 6,
   "id": "98ed3786-ef9e-4059-a80b-5c74b5d2a984",
   "metadata": {},
   "outputs": [
    {
     "data": {
      "text/plain": [
       "(3666, 632)"
      ]
     },
     "execution_count": 6,
     "metadata": {},
     "output_type": "execute_result"
    }
   ],
   "source": [
    "flight_train_data = prepare_ATIS_data(loaded_train_dict)['flight']\n",
    "flight_test_data = prepare_ATIS_data(loaded_test_dict)['flight']\n",
    "len(flight_train_data), len(flight_test_data)"
   ]
  },
  {
   "cell_type": "code",
   "execution_count": 7,
   "id": "a24cab91-bef9-4f85-afcf-a1ae20759a76",
   "metadata": {},
   "outputs": [
    {
     "data": {
      "text/plain": [
       "(3666, 632)"
      ]
     },
     "execution_count": 7,
     "metadata": {},
     "output_type": "execute_result"
    }
   ],
   "source": [
    "flight_train_labels = [0 for i in range(len(flight_train_data))]\n",
    "flight_test_labels = [0 for i in range(len(flight_test_data))]\n",
    "len(flight_train_labels), len(flight_test_labels)"
   ]
  },
  {
   "cell_type": "markdown",
   "id": "0fd13c8c-ff11-4823-ac07-37050c0fa23e",
   "metadata": {},
   "source": [
    "## Misc data from unrelated chats (Ubuntu chat and DailyDialog)"
   ]
  },
  {
   "cell_type": "code",
   "execution_count": 8,
   "id": "4287a920-813e-4c74-bfc2-3312f9e0aa06",
   "metadata": {},
   "outputs": [],
   "source": [
    "import pandas as pd"
   ]
  },
  {
   "cell_type": "code",
   "execution_count": 9,
   "id": "48224d71-0b96-43d5-b32a-15b9275e8247",
   "metadata": {},
   "outputs": [],
   "source": [
    "df = pd.read_csv('./training_data/misc.csv')"
   ]
  },
  {
   "cell_type": "code",
   "execution_count": 10,
   "id": "318066a6-f983-4010-9544-9c64dded06cf",
   "metadata": {},
   "outputs": [],
   "source": [
    "misc = df['text'].sample(2500).tolist()"
   ]
  },
  {
   "cell_type": "code",
   "execution_count": 11,
   "id": "c1eedb90-f01c-4f27-b7a0-e70534a671ec",
   "metadata": {},
   "outputs": [],
   "source": [
    "with open('./training_data/dialogues.txt', mode='r') as f:\n",
    "    dialogues = f.read()\n",
    "list_ = dialogues.split('__eou__')\n",
    "dialogues = list_[:2500]"
   ]
  },
  {
   "cell_type": "code",
   "execution_count": 12,
   "id": "d8040753-3ebc-4bd6-b393-1f0527335a74",
   "metadata": {},
   "outputs": [
    {
     "data": {
      "text/plain": [
       "2344"
      ]
     },
     "execution_count": 12,
     "metadata": {},
     "output_type": "execute_result"
    }
   ],
   "source": [
    "for i in range(len(dialogues)):\n",
    "    dialogues[i] = dialogues[i].strip()\n",
    "    if '\\n' in dialogues[i]:\n",
    "        dialogues[i] = dialogues[i].replace('\\n', '')\n",
    "dialogues_processed = [i for i in dialogues if len(i)>15] \n",
    "len(dialogues_processed)"
   ]
  },
  {
   "cell_type": "code",
   "execution_count": 13,
   "id": "8752a5d1-6a38-4a4b-9969-2ed9be37645c",
   "metadata": {},
   "outputs": [
    {
     "data": {
      "text/plain": [
       "(4844, 4844)"
      ]
     },
     "execution_count": 13,
     "metadata": {},
     "output_type": "execute_result"
    }
   ],
   "source": [
    "misc.extend(dialogues_processed)\n",
    "misc_labels = [1 for i in range(len(misc))]\n",
    "len(misc), len(misc_labels)\n"
   ]
  },
  {
   "cell_type": "code",
   "execution_count": 14,
   "id": "f9a441c0-af8f-4ec7-b429-9a956d4a31b4",
   "metadata": {},
   "outputs": [
    {
     "data": {
      "text/plain": [
       "(3390, 1454, 3390, 1454)"
      ]
     },
     "execution_count": 14,
     "metadata": {},
     "output_type": "execute_result"
    }
   ],
   "source": [
    "misc_train, misc_test, misc_train_labels, misc_test_labels = train_test_split(misc,\n",
    "                                                                              misc_labels,\n",
    "                                                                              train_size=0.7,\n",
    "                                                                              shuffle=True, random_state=42) \n",
    "len(misc_train),len(misc_test),len(misc_train_labels),len(misc_test_labels),"
   ]
  },
  {
   "cell_type": "markdown",
   "id": "7e1f6ddd-80b7-41df-b0f0-0bfc4bf2ea5b",
   "metadata": {},
   "source": [
    "## Grateful messages, if the user wants to thank the model"
   ]
  },
  {
   "cell_type": "code",
   "execution_count": 15,
   "id": "b31e5e4c-73d0-4237-ac2c-c9b31414f0bd",
   "metadata": {},
   "outputs": [],
   "source": [
    "with open('./training_data/grateful_data.txt', mode='r') as f:\n",
    "    grateful_messages = f.read()"
   ]
  },
  {
   "cell_type": "code",
   "execution_count": 16,
   "id": "ffbbf480-2414-4639-a606-2b463cc80dcf",
   "metadata": {},
   "outputs": [
    {
     "data": {
      "text/plain": [
       "708"
      ]
     },
     "execution_count": 16,
     "metadata": {},
     "output_type": "execute_result"
    }
   ],
   "source": [
    "grateful_messages = grateful_messages.split('\\n')\n",
    "len(grateful_messages)"
   ]
  },
  {
   "cell_type": "code",
   "execution_count": 17,
   "id": "9adbf1aa-ccca-44ae-9545-c9403cdcc338",
   "metadata": {},
   "outputs": [],
   "source": [
    "# check for duplicates\n",
    "grateful = []\n",
    "for i in grateful_messages:\n",
    "    if i not in grateful:\n",
    "        grateful.append(i)"
   ]
  },
  {
   "cell_type": "code",
   "execution_count": 18,
   "id": "1d22c0f7-f6f2-46c7-bbe0-8926acd49f0d",
   "metadata": {},
   "outputs": [
    {
     "data": {
      "text/plain": [
       "(708, 708)"
      ]
     },
     "execution_count": 18,
     "metadata": {},
     "output_type": "execute_result"
    }
   ],
   "source": [
    "grateful_labels = [2 for i in range(len(grateful))]\n",
    "len(grateful), len(grateful_labels)"
   ]
  },
  {
   "cell_type": "code",
   "execution_count": 19,
   "id": "3216e09f-1a1e-41dd-80e6-0249f8ef6851",
   "metadata": {},
   "outputs": [
    {
     "data": {
      "text/plain": [
       "(495, 213, 495, 213)"
      ]
     },
     "execution_count": 19,
     "metadata": {},
     "output_type": "execute_result"
    }
   ],
   "source": [
    "grateful_train, grateful_test, grateful_train_labels, grateful_test_labels = train_test_split(grateful,\n",
    "                                                                              grateful_labels,\n",
    "                                                                              train_size=0.7,\n",
    "                                                                              shuffle=True, random_state=42) \n",
    "len(grateful_train),len(grateful_test),len(grateful_train_labels),len(grateful_test_labels),"
   ]
  },
  {
   "cell_type": "markdown",
   "id": "3fdf3607-6ac8-427a-a00b-0cffa08fde05",
   "metadata": {},
   "source": [
    "## End of dialogue messages, if the user wants to end the conversation"
   ]
  },
  {
   "cell_type": "code",
   "execution_count": 20,
   "id": "5ea528da-f5e4-474b-bf23-7cbdaff7c23b",
   "metadata": {},
   "outputs": [],
   "source": [
    "with open('./training_data/end_dialogue_data.txt', mode='r') as f:\n",
    "    dialogue_end_texts = f.read()"
   ]
  },
  {
   "cell_type": "code",
   "execution_count": 21,
   "id": "447d7cf0-f183-4bee-9347-0779ed2f75cb",
   "metadata": {},
   "outputs": [],
   "source": [
    "dialogue_end_texts = dialogue_end_texts.split('\\n')"
   ]
  },
  {
   "cell_type": "code",
   "execution_count": 22,
   "id": "2b4741b2-e3cc-4e8d-adb7-7e82c0d557a5",
   "metadata": {},
   "outputs": [],
   "source": [
    "# check for duplicates\n",
    "dialogue_end = []\n",
    "for idx in range(len(dialogue_end_texts)):\n",
    "    i = dialogue_end_texts[idx]\n",
    "    if '\"' in i:\n",
    "        i = i.replace('\"', '')\n",
    "    if i not in dialogue_end:\n",
    "        dialogue_end.append(i)"
   ]
  },
  {
   "cell_type": "code",
   "execution_count": 23,
   "id": "381afc19-51aa-4255-9b06-ac17e41ad682",
   "metadata": {},
   "outputs": [
    {
     "data": {
      "text/plain": [
       "(618, 618)"
      ]
     },
     "execution_count": 23,
     "metadata": {},
     "output_type": "execute_result"
    }
   ],
   "source": [
    "dialogue_end_labels = [3 for i in range(len(dialogue_end))]\n",
    "len(dialogue_end), len(dialogue_end_labels)"
   ]
  },
  {
   "cell_type": "code",
   "execution_count": 24,
   "id": "63e8219e-21bc-424c-9132-3fd571a4d7c3",
   "metadata": {},
   "outputs": [
    {
     "data": {
      "text/plain": [
       "(432, 186, 432, 186)"
      ]
     },
     "execution_count": 24,
     "metadata": {},
     "output_type": "execute_result"
    }
   ],
   "source": [
    "dialogue_end_train, dialogue_end_test, dialogue_end_train_labels, dialogue_end_test_labels = train_test_split(dialogue_end,\n",
    "                                                                                              dialogue_end_labels,\n",
    "                                                                                              train_size=0.7,\n",
    "                                                                                              shuffle=True, random_state=42) \n",
    "len(dialogue_end_train), len(dialogue_end_test), len(dialogue_end_train_labels), len(dialogue_end_test_labels)"
   ]
  },
  {
   "cell_type": "code",
   "execution_count": null,
   "id": "e068578b-fcb7-4fcb-b905-4c96452469ca",
   "metadata": {},
   "outputs": [],
   "source": []
  },
  {
   "cell_type": "markdown",
   "id": "aab2f63c-4168-4f99-a4c5-43ea64421b7a",
   "metadata": {},
   "source": [
    "## Combining all together"
   ]
  },
  {
   "cell_type": "code",
   "execution_count": 25,
   "id": "8b143fa4-a16e-40d3-b79a-227ea995f1a5",
   "metadata": {},
   "outputs": [],
   "source": [
    "X_train = list(itertools.chain(flight_train_data, misc_train, grateful_train, dialogue_end_train))\n",
    "X_test = list(itertools.chain(flight_test_data, misc_test, grateful_test, dialogue_end_test))\n",
    "Y_train = list(itertools.chain(flight_train_labels, misc_train_labels, grateful_train_labels, dialogue_end_train_labels))\n",
    "Y_test = list(itertools.chain(flight_test_labels, misc_test_labels, grateful_test_labels, dialogue_end_test_labels))"
   ]
  },
  {
   "cell_type": "code",
   "execution_count": 26,
   "id": "b0f8e50c-c359-4517-a4c3-e8f5ed83a923",
   "metadata": {},
   "outputs": [
    {
     "data": {
      "text/plain": [
       "(7983, 2485, 7983, 2485)"
      ]
     },
     "execution_count": 26,
     "metadata": {},
     "output_type": "execute_result"
    }
   ],
   "source": [
    "len(X_train), len(X_test), len(Y_train), len(Y_test)"
   ]
  },
  {
   "cell_type": "code",
   "execution_count": 28,
   "id": "ba785c60-e33d-460a-926d-fd8ca1d045b8",
   "metadata": {},
   "outputs": [],
   "source": [
    "import json\n",
    "dict_to_save = {}\n",
    "dict_to_save[\"X_train\"] = X_train\n",
    "dict_to_save[\"X_test\"] = X_test\n",
    "dict_to_save[\"Y_train\"] = Y_train\n",
    "dict_to_save[\"Y_test\"] = Y_test\n",
    "\n",
    "with open('./training_data/final_dataset.json', 'w') as f:\n",
    "    json.dump(dict_to_save, f)"
   ]
  },
  {
   "cell_type": "code",
   "execution_count": null,
   "id": "325e9962-c4db-4bac-a5bd-b12bb4ee86e5",
   "metadata": {},
   "outputs": [],
   "source": []
  },
  {
   "cell_type": "code",
   "execution_count": null,
   "id": "2729a976-43fa-44a0-8c3f-1709ac1e85b2",
   "metadata": {},
   "outputs": [],
   "source": []
  }
 ],
 "metadata": {
  "kernelspec": {
   "display_name": "Python 3 (ipykernel)",
   "language": "python",
   "name": "python3"
  },
  "language_info": {
   "codemirror_mode": {
    "name": "ipython",
    "version": 3
   },
   "file_extension": ".py",
   "mimetype": "text/x-python",
   "name": "python",
   "nbconvert_exporter": "python",
   "pygments_lexer": "ipython3",
   "version": "3.9.18"
  }
 },
 "nbformat": 4,
 "nbformat_minor": 5
}
