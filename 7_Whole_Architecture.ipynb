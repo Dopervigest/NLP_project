{
 "cells": [
  {
   "cell_type": "code",
   "execution_count": 7,
   "id": "196ba308-f1bd-4de5-8701-c863e4b9d88d",
   "metadata": {},
   "outputs": [],
   "source": [
    "import pandas as pd\n",
    "\n",
    "from ner_models import FlairModel\n",
    "from ir_model import IRModel"
   ]
  },
  {
   "cell_type": "code",
   "execution_count": 8,
   "id": "49503932-2757-464a-b98e-b4185d3671b9",
   "metadata": {},
   "outputs": [],
   "source": [
    "class FlightBookingSystem:\n",
    "    def __init__(self, available_flights):\n",
    "        self.user_data = {}\n",
    "        \n",
    "        self.ner_model = FlairModel()\n",
    "        self.ir_model = IRModel()\n",
    "        \n",
    "        self.available_flights = available_flights\n",
    "\n",
    "    def run(self):\n",
    "        self.user_data = {}\n",
    "        self.model_state = 'Neutral'\n",
    "        print(\"Model: Hello! I'm here to help you with flight booking.\")\n",
    "        while True:                \n",
    "            user_input = input(\"User: \").capitalize()\n",
    "\n",
    "            self.intent = self.predict_intent(user_input.strip())\n",
    "            \n",
    "            if self.intent == \"thank\":\n",
    "                print(\"Model: Happy to help!\")\n",
    "                continue\n",
    "\n",
    "            elif self.intent == \"end_conversation\":\n",
    "                print(\"Model: Goodbye!\")\n",
    "                break\n",
    "\n",
    "            elif self.model_state == 'Neutral' and self.intent == \"book_flight\":\n",
    "                self.model_state = 'Booking'\n",
    "                self.user_data['name'], self.user_data['departure'], self.user_data['destination'], self.user_data['date'] = self.extract_entities(user_input)\n",
    "\n",
    "                answer = self.check_data()\n",
    "                \n",
    "                if answer:\n",
    "                    continue\n",
    "                else:\n",
    "                    break\n",
    "                        \n",
    "            elif self.model_state == 'Booking':\n",
    "                new_data = self.extract_entities(user_input)\n",
    "                self.update_data(new_data)\n",
    "                answer = self.check_data()\n",
    "                if answer:\n",
    "                    continue\n",
    "                else:\n",
    "                    break\n",
    "\n",
    "            else:\n",
    "                print(\"Model: I'm not sure what you mean. I'm designed only to book flight tickets. Could you please rephrase?\")\n",
    "                \n",
    "    def predict_intent(self, user_input):\n",
    "        intent = self.ir_model.predict(user_input)\n",
    "        return intent\n",
    "\n",
    "    def extract_entities(self, user_input):\n",
    "        name, departure, destination, date = self.ner_model.extract_flight_details(user_input)\n",
    "        return name, departure, destination, date\n",
    "    \n",
    "    def update_data(self, new_data):\n",
    "        flg=None\n",
    "        if self.user_data['departure'] != 'Unspecified' and self.user_data['destination'] == 'Unspecified':\n",
    "            flg=True\n",
    "\n",
    "        for idx, key in enumerate(list(self.user_data.keys())):\n",
    "            if self.user_data[key] == 'Unspecified':\n",
    "                self.user_data[key] = new_data[idx]\n",
    "\n",
    "        if self.user_data['destination'] == 'Unspecified' and flg:\n",
    "            self.user_data['destination'] = new_data[1]\n",
    "\n",
    "\n",
    "\n",
    "    def check_data(self):\n",
    "        is_name = self.user_data['name'] != 'Unspecified'\n",
    "        is_departure = self.user_data['departure'] != 'Unspecified'\n",
    "        is_destination = self.user_data['destination'] != 'Unspecified'\n",
    "        is_date = self.user_data['date'] != 'Unspecified'\n",
    "\n",
    "        if is_name and is_departure and is_destination and is_date:\n",
    "            is_available = self.check_flight_availability()\n",
    "            if is_available:\n",
    "                return self.final_check()     \n",
    "                \n",
    "            else:\n",
    "                print(\"Model: Sorry, the requested flight is not available.\")\n",
    "                return False\n",
    "\n",
    "        elif is_departure and is_destination and is_date:\n",
    "            is_available = self.check_flight_availability()\n",
    "            if is_available:\n",
    "                self.request_name()\n",
    "                return True\n",
    "                                   \n",
    "            else:\n",
    "                print(\"Model: Sorry, the requested flight is not available.\")\n",
    "                return False\n",
    "                    \n",
    "                \n",
    "        elif is_departure and is_destination:\n",
    "            answer = self.get_list_of_flights()\n",
    "            if answer:\n",
    "                print(f'Model: We have this flight available for these dates: {answer}')\n",
    "                self.request_date()\n",
    "                date = input('User: ')\n",
    "                if date.strip() in answer:\n",
    "                    self.user_data['date'] = date\n",
    "                    self.check_data()\n",
    "                else: \n",
    "                    self.update_data(self.extract_entities(date))\n",
    "                    self.check_data()\n",
    "                    return True\n",
    "            else:\n",
    "                print(f'Model: Sorry, the requested flight is not available.')\n",
    "                return False\n",
    "                \n",
    "        elif not is_name and not is_departure and not is_destination and not is_date:\n",
    "            self.request_all()\n",
    "            return True\n",
    "        \n",
    "        elif not is_destination and not is_departure:\n",
    "            self.request_departure_destination()\n",
    "            return True\n",
    "        \n",
    "        elif not is_destination:\n",
    "            self.request_destination()\n",
    "            return True\n",
    "\n",
    "        elif not is_departure:\n",
    "            self.request_departure()\n",
    "            return True\n",
    "            \n",
    "        elif not is_name:\n",
    "            self.request_name()\n",
    "            return True\n",
    "            \n",
    "        elif not is_date:\n",
    "            self.request_date()\n",
    "            return True\n",
    "\n",
    "        else:\n",
    "            self.request_all()\n",
    "            return True\n",
    "\n",
    "\n",
    "    def request_name(self):\n",
    "        print(\"Model: Please provide your full name: \")\n",
    "    def request_departure(self):\n",
    "        print(\"Model: Please provide the city of departure: \")\n",
    "    def request_destination(self):\n",
    "        print(\"Model: Please provide the city of destination: \")\n",
    "    def request_date(self):\n",
    "        print(\"Model: Please provide the date of the flight: \")\n",
    "    def request_departure_destination(self):\n",
    "        print(\"Model: Please provide the city of departure and the city of destination: \")\n",
    "    def request_all(self):\n",
    "        print(\"Model: Please provide your name, city of departure, city of destination, and date of flight: \")\n",
    "            \n",
    "\n",
    "\n",
    "    def check_flight_availability(self):\n",
    "        condition = ((self.available_flights['Departure'] == self.user_data['departure']) &\n",
    "                     (self.available_flights['Destination'] == self.user_data['destination']) &\n",
    "                     (self.available_flights['Date'] == self.user_data['date']) &\n",
    "                     (self.available_flights['Available seats'] > 0))\n",
    "        if self.available_flights.loc[condition].shape[0] != 0:\n",
    "            return True\n",
    "        else:\n",
    "            return False\n",
    "\n",
    "    def get_list_of_flights(self):\n",
    "        condition = ((self.available_flights['Departure'] == self.user_data['departure']) &\n",
    "                     (self.available_flights['Destination'] == self.user_data['destination']) &\n",
    "                     (self.available_flights['Available seats'] > 0))\n",
    "        if self.available_flights.loc[condition].shape[0] != 0:\n",
    "            return list(self.available_flights.loc[condition, 'Date'])\n",
    "        else:\n",
    "            return False\n",
    "    \n",
    "    def book_flight(self):\n",
    "        condition = ((self.available_flights['Departure'] == self.user_data['departure']) &\n",
    "                     (self.available_flights['Destination'] == self.user_data['destination']) &\n",
    "                     (self.available_flights['Date'] == self.user_data['date']))\n",
    "        self.available_flights.loc[condition, 'Available seats'] -= 1\n",
    "        self.available_flights.loc[condition, 'Passengers'] += f'{self.user_data[\"name\"]}, '\n",
    "        print('Model: The requested flight is successfully booked! Thank you for using our service!')\n",
    "\n",
    "\n",
    "    def final_check(self):\n",
    "        print(\"Model: Let's check the data one last time to be sure.\")\n",
    "        print(f\"Model: Your name is {self.user_data['name']}, the city of departure is {self.user_data['departure']}, the destination is {self.user_data['destination']}, and the date is {self.user_data['date']}, right? Answer only 'Yes' or 'No'.\")\n",
    "        answer = input('User: ')\n",
    "        if 'yes' in answer.lower():\n",
    "            self.book_flight()\n",
    "        else:\n",
    "            self.model_state = 'Neutral' \n",
    "            print(\"Model: Then please repeat your request and state your name, city of departure, city of destination and date of flight.\")\n",
    "            return True\n",
    "            "
   ]
  },
  {
   "cell_type": "code",
   "execution_count": 9,
   "id": "b738f36e-3c67-48ff-8b8d-b846d75508b0",
   "metadata": {},
   "outputs": [
    {
     "data": {
      "text/html": [
       "<div>\n",
       "<style scoped>\n",
       "    .dataframe tbody tr th:only-of-type {\n",
       "        vertical-align: middle;\n",
       "    }\n",
       "\n",
       "    .dataframe tbody tr th {\n",
       "        vertical-align: top;\n",
       "    }\n",
       "\n",
       "    .dataframe thead th {\n",
       "        text-align: right;\n",
       "    }\n",
       "</style>\n",
       "<table border=\"1\" class=\"dataframe\">\n",
       "  <thead>\n",
       "    <tr style=\"text-align: right;\">\n",
       "      <th></th>\n",
       "      <th>Departure</th>\n",
       "      <th>Destination</th>\n",
       "      <th>Date</th>\n",
       "      <th>Available seats</th>\n",
       "      <th>Passengers</th>\n",
       "    </tr>\n",
       "  </thead>\n",
       "  <tbody>\n",
       "    <tr>\n",
       "      <th>0</th>\n",
       "      <td>New York</td>\n",
       "      <td>London</td>\n",
       "      <td>13-11-2023</td>\n",
       "      <td>5</td>\n",
       "      <td></td>\n",
       "    </tr>\n",
       "    <tr>\n",
       "      <th>1</th>\n",
       "      <td>London</td>\n",
       "      <td>Paris</td>\n",
       "      <td>21-11-2023</td>\n",
       "      <td>3</td>\n",
       "      <td></td>\n",
       "    </tr>\n",
       "    <tr>\n",
       "      <th>2</th>\n",
       "      <td>Paris</td>\n",
       "      <td>Tokyo</td>\n",
       "      <td>12-12-2023</td>\n",
       "      <td>6</td>\n",
       "      <td></td>\n",
       "    </tr>\n",
       "    <tr>\n",
       "      <th>3</th>\n",
       "      <td>London</td>\n",
       "      <td>Paris</td>\n",
       "      <td>10-10-2023</td>\n",
       "      <td>7</td>\n",
       "      <td></td>\n",
       "    </tr>\n",
       "  </tbody>\n",
       "</table>\n",
       "</div>"
      ],
      "text/plain": [
       "  Departure Destination        Date  Available seats Passengers\n",
       "0  New York      London  13-11-2023                5           \n",
       "1    London       Paris  21-11-2023                3           \n",
       "2     Paris       Tokyo  12-12-2023                6           \n",
       "3    London       Paris  10-10-2023                7           "
      ]
     },
     "execution_count": 9,
     "metadata": {},
     "output_type": "execute_result"
    }
   ],
   "source": [
    "data = {\n",
    "    'Departure': ['New York', 'London', 'Paris', 'London'],\n",
    "    'Destination': ['London', 'Paris', 'Tokyo', 'Paris'],\n",
    "    'Date': ['13-11-2023', '21-11-2023', '12-12-2023', '10-10-2023'],\n",
    "    'Available seats': [5, 3, 6, 7],\n",
    "    'Passengers': ['', '', '', '']\n",
    "}\n",
    "\n",
    "df = pd.DataFrame(data)\n",
    "df"
   ]
  },
  {
   "cell_type": "code",
   "execution_count": 10,
   "id": "5b85e445-5bd7-4983-8d08-f3f50e8f3450",
   "metadata": {},
   "outputs": [
    {
     "name": "stdout",
     "output_type": "stream",
     "text": [
      "2023-12-01 07:24:27,858 SequenceTagger predicts: Dictionary with 76 tags: <unk>, O, B-CARDINAL, E-CARDINAL, S-PERSON, S-CARDINAL, S-PRODUCT, B-PRODUCT, I-PRODUCT, E-PRODUCT, B-WORK_OF_ART, I-WORK_OF_ART, E-WORK_OF_ART, B-PERSON, E-PERSON, S-GPE, B-DATE, I-DATE, E-DATE, S-ORDINAL, S-LANGUAGE, I-PERSON, S-EVENT, S-DATE, B-QUANTITY, E-QUANTITY, S-TIME, B-TIME, I-TIME, E-TIME, B-GPE, E-GPE, S-ORG, I-GPE, S-NORP, B-FAC, I-FAC, E-FAC, B-NORP, E-NORP, S-PERCENT, B-ORG, E-ORG, B-LANGUAGE, E-LANGUAGE, I-CARDINAL, I-ORG, S-WORK_OF_ART, I-QUANTITY, B-MONEY\n"
     ]
    }
   ],
   "source": [
    "booking_system = FlightBookingSystem(df)"
   ]
  },
  {
   "cell_type": "code",
   "execution_count": 11,
   "id": "ca4df6d3-c1b0-4633-bf09-72fe16edb9b0",
   "metadata": {},
   "outputs": [
    {
     "name": "stdout",
     "output_type": "stream",
     "text": [
      "Model: Hello! I'm here to help you with flight booking.\n"
     ]
    },
    {
     "name": "stdin",
     "output_type": "stream",
     "text": [
      "User:  Thank you!\n"
     ]
    },
    {
     "name": "stdout",
     "output_type": "stream",
     "text": [
      "Model: Happy to help!\n"
     ]
    },
    {
     "name": "stdin",
     "output_type": "stream",
     "text": [
      "User:  i need a flight from london to paris\n"
     ]
    },
    {
     "name": "stdout",
     "output_type": "stream",
     "text": [
      "Model: We have this flight available for these dates: ['21-11-2023', '10-10-2023']\n",
      "Model: Please provide the date of the flight: \n"
     ]
    },
    {
     "name": "stdin",
     "output_type": "stream",
     "text": [
      "User:  10th october\n"
     ]
    },
    {
     "name": "stdout",
     "output_type": "stream",
     "text": [
      "Model: Please provide your full name: \n"
     ]
    },
    {
     "name": "stdin",
     "output_type": "stream",
     "text": [
      "User:  John Doe\n"
     ]
    },
    {
     "name": "stdout",
     "output_type": "stream",
     "text": [
      "Model: Let's check the data one last time to be sure.\n",
      "Model: Your name is John Doe, the city of departure is London, the destination is Paris, and the date is 10-10-2023, right? Answer only 'Yes' or 'No'.\n"
     ]
    },
    {
     "name": "stdin",
     "output_type": "stream",
     "text": [
      "User:  yes\n"
     ]
    },
    {
     "name": "stdout",
     "output_type": "stream",
     "text": [
      "Model: The requested flight is successfully booked! Thank you for using our service!\n"
     ]
    }
   ],
   "source": [
    "booking_system.run()"
   ]
  },
  {
   "cell_type": "code",
   "execution_count": 12,
   "id": "ad888e3c-d7e4-4b66-90cc-4266e6aef29c",
   "metadata": {},
   "outputs": [
    {
     "data": {
      "text/html": [
       "<div>\n",
       "<style scoped>\n",
       "    .dataframe tbody tr th:only-of-type {\n",
       "        vertical-align: middle;\n",
       "    }\n",
       "\n",
       "    .dataframe tbody tr th {\n",
       "        vertical-align: top;\n",
       "    }\n",
       "\n",
       "    .dataframe thead th {\n",
       "        text-align: right;\n",
       "    }\n",
       "</style>\n",
       "<table border=\"1\" class=\"dataframe\">\n",
       "  <thead>\n",
       "    <tr style=\"text-align: right;\">\n",
       "      <th></th>\n",
       "      <th>Departure</th>\n",
       "      <th>Destination</th>\n",
       "      <th>Date</th>\n",
       "      <th>Available seats</th>\n",
       "      <th>Passengers</th>\n",
       "    </tr>\n",
       "  </thead>\n",
       "  <tbody>\n",
       "    <tr>\n",
       "      <th>0</th>\n",
       "      <td>New York</td>\n",
       "      <td>London</td>\n",
       "      <td>13-11-2023</td>\n",
       "      <td>5</td>\n",
       "      <td></td>\n",
       "    </tr>\n",
       "    <tr>\n",
       "      <th>1</th>\n",
       "      <td>London</td>\n",
       "      <td>Paris</td>\n",
       "      <td>21-11-2023</td>\n",
       "      <td>3</td>\n",
       "      <td></td>\n",
       "    </tr>\n",
       "    <tr>\n",
       "      <th>2</th>\n",
       "      <td>Paris</td>\n",
       "      <td>Tokyo</td>\n",
       "      <td>12-12-2023</td>\n",
       "      <td>6</td>\n",
       "      <td></td>\n",
       "    </tr>\n",
       "    <tr>\n",
       "      <th>3</th>\n",
       "      <td>London</td>\n",
       "      <td>Paris</td>\n",
       "      <td>10-10-2023</td>\n",
       "      <td>6</td>\n",
       "      <td>John Doe,</td>\n",
       "    </tr>\n",
       "  </tbody>\n",
       "</table>\n",
       "</div>"
      ],
      "text/plain": [
       "  Departure Destination        Date  Available seats  Passengers\n",
       "0  New York      London  13-11-2023                5            \n",
       "1    London       Paris  21-11-2023                3            \n",
       "2     Paris       Tokyo  12-12-2023                6            \n",
       "3    London       Paris  10-10-2023                6  John Doe, "
      ]
     },
     "execution_count": 12,
     "metadata": {},
     "output_type": "execute_result"
    }
   ],
   "source": [
    "df"
   ]
  },
  {
   "cell_type": "code",
   "execution_count": null,
   "id": "ce4ca226-243f-45ee-ae68-842639e54b99",
   "metadata": {},
   "outputs": [],
   "source": []
  }
 ],
 "metadata": {
  "kernelspec": {
   "display_name": "Python 3 (ipykernel)",
   "language": "python",
   "name": "python3"
  },
  "language_info": {
   "codemirror_mode": {
    "name": "ipython",
    "version": 3
   },
   "file_extension": ".py",
   "mimetype": "text/x-python",
   "name": "python",
   "nbconvert_exporter": "python",
   "pygments_lexer": "ipython3",
   "version": "3.9.18"
  }
 },
 "nbformat": 4,
 "nbformat_minor": 5
}
